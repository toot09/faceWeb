{
  "nbformat": 4,
  "nbformat_minor": 0,
  "metadata": {
    "colab": {
      "name": "Untitled31.ipynb",
      "provenance": [],
      "authorship_tag": "ABX9TyNRh2e/b1EFzuU5r2Ww+Pbd",
      "include_colab_link": true
    },
    "kernelspec": {
      "name": "python3",
      "display_name": "Python 3"
    }
  },
  "cells": [
    {
      "cell_type": "markdown",
      "metadata": {
        "id": "view-in-github",
        "colab_type": "text"
      },
      "source": [
        "<a href=\"https://colab.research.google.com/github/toot09/faceWeb/blob/master/crawling/textCrawling.ipynb\" target=\"_parent\"><img src=\"https://colab.research.google.com/assets/colab-badge.svg\" alt=\"Open In Colab\"/></a>"
      ]
    },
    {
      "cell_type": "code",
      "metadata": {
        "id": "2Yd-EdoTDBcI",
        "colab_type": "code",
        "colab": {
          "base_uri": "https://localhost:8080/",
          "height": 248
        },
        "outputId": "6f0d1d2b-9be2-4cce-e6d1-5fd138e8bd3b"
      },
      "source": [
        "import urllib.request \n",
        "from bs4 import BeautifulSoup \n",
        "import matplotlib.pyplot as plt \n",
        "\n",
        "def main(): \n",
        "  url = \"http://news.jtbc.joins.com/section/index.aspx?scode=70\"\n",
        "\tsourcecode = urllib.request.urlopen(url).read() \n",
        "\tsoup = BeautifulSoup(sourcecode, \"html.parser\") \n",
        "\t\n",
        "\ttimes = [] \n",
        "\t\n",
        "\tfor i in range(0, 20): \n",
        "\t\ttimes.append(soup.find_all(\"span\", class_=\"date\")[i].get_text().strip()) \n",
        "\t\t\n",
        "\tedited = [] \n",
        "\t\n",
        "\tfor i in range(0, len(times)):\n",
        "\t\tedited.append(times[i][8:10]) \n",
        "\t\t\n",
        "\tcount1 = 0 \n",
        "\tcount2 = 0 \n",
        "\tcount3 = 0 \n",
        "\tcount4 = 0 \n",
        "\t\n",
        "\tfor i in range(0, len(edited)): \n",
        "\t\tif edited[i] == \"05\": # 05일 기사 개수 구하기 \n",
        "\t\t\tcount1 = count1 + 1\n",
        "\t\telif edited[i] == \"06\": # 06일 기사 개수 구하기 \n",
        "\t\t\tcount2 = count2 + 1 \n",
        "\t\telif edited[i] == \"07\": # 07일 기사 개수 구하기 \n",
        "\t\t\tcount3 = count3 + 1 \n",
        "\t\telif edited[i] == \"08\": # 08일 기사 개수 구하기 \n",
        "\t\t\tcount4 = count4 + 1 \n",
        "\t\n",
        "\tdays = [count1, count2, count3, count4] \n",
        "\tactivities = ['05', '06', '07', '08'] \n",
        "\tcolors = ['red', 'blue', 'green', 'yellow'] \n",
        "\tplt.pie(days, labels=activities, colors=colors, startangle=90, autopct='%.2f%%') \n",
        "\tplt.show() \n",
        "\t\n",
        "if __name__ == \"__main__\": \n",
        "\tmain()"
      ],
      "execution_count": 1,
      "outputs": [
        {
          "output_type": "display_data",
          "data": {
            "image/png": "[encoded data removed]",
            "text/plain": [
              "<Figure size 432x288 with 1 Axes>"
            ]
          },
          "metadata": {
            "tags": []
          }
        }
      ]
    }
  ]
}